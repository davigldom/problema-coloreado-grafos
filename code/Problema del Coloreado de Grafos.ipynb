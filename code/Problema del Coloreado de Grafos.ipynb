{
 "cells": [
  {
   "cell_type": "markdown",
   "metadata": {},
   "source": [
    "#                                             PROBLEMA DEL COLOREADO DE GRAFOS                                           #"
   ]
  },
  {
   "cell_type": "markdown",
   "metadata": {},
   "source": [
    "### Este trabajo ha sido realizado por:\n",
    "\n",
    "- David Iglesias Dominguez\n",
    "- Joaquin García Macías\n",
    "\n",
    "En el curso lectivo 2017/2018, para la asignatura de Inteligencia Artificial, donde se expondrá el codigo que resuelve el problema del coloreado de un grafo cualquiera, dado un número de vértices y colores para colorear, junto con otras variables, encontrando la solución óptima.\n",
    "\n",
    "Para ello, se resolverá con la técnica de Algoritmos Genéticos, usando mutación de los individuos y enfriamiento simulado"
   ]
  },
  {
   "cell_type": "markdown",
   "metadata": {},
   "source": [
    "A continuación se muestran las librerias necesarias para el desarrollo del codigo.\n",
    "\n",
    "Para representar las evaluaciones de los individuos declaramos una clase que herede de la clase `base.Fitness` y en la que establezcamos en el atributo `weights` una tupla con los valores de los pesos, como números reales. "
   ]
  },
  {
   "cell_type": "code",
   "execution_count": 3,
   "metadata": {},
   "outputs": [
    {
     "name": "stderr",
     "output_type": "stream",
     "text": [
      "C:\\ProgramData\\Anaconda3\\lib\\site-packages\\deap-1.2.2-py3.6.egg\\deap\\creator.py:141: RuntimeWarning: A class named 'Fitness' has already been created and it will be overwritten. Consider deleting previous creation of that class or rename it.\n",
      "C:\\ProgramData\\Anaconda3\\lib\\site-packages\\deap-1.2.2-py3.6.egg\\deap\\creator.py:141: RuntimeWarning: A class named 'Individuo' has already been created and it will be overwritten. Consider deleting previous creation of that class or rename it.\n"
     ]
    }
   ],
   "source": [
    "import random\n",
    "from deap import base, creator, tools, algorithms\n",
    "import numpy\n",
    "import networkx as nx\n",
    "import matplotlib.pyplot as plt\n",
    "\n",
    "creator.create('Fitness', base.Fitness, weights=(-1.0,))\n",
    "creator.create('Individuo', list, fitness = creator.Fitness)"
   ]
  },
  {
   "cell_type": "markdown",
   "metadata": {},
   "source": [
    "En este primer apartado, solicitamos las variables necesarias para realizar el proyecto, en ellas se incluyen, el numero de colores, nodos e individuos, que guardaremos en variables globales para poder utilizarlas a continuacion.\n",
    "\n",
    "Del mismo modo, creamos una _caja de herramientas (_toolbox_) en la que registremos todos los elementos necesarios para poder aplicar un algoritmo genético."
   ]
  },
  {
   "cell_type": "code",
   "execution_count": 4,
   "metadata": {},
   "outputs": [
    {
     "name": "stdout",
     "output_type": "stream",
     "text": [
      "Introduce el número de colores: 5\n",
      "Introduce el número de nodos: 5\n",
      "Introduce el número de individuos de cada población: 5\n"
     ]
    }
   ],
   "source": [
    "caja_de_herramientas = base.Toolbox()\n",
    "global numColores\n",
    "numColores = int(input('Introduce el número de colores: '))\n",
    "caja_de_herramientas.register('gen', random.randint, 1, numColores)\n",
    "global numNodos\n",
    "numNodos = int(input('Introduce el número de nodos: '))\n",
    "caja_de_herramientas.register('individuo', tools.initRepeat,\n",
    "                              container=creator.Individuo, func=caja_de_herramientas.gen, n=numNodos)\n",
    "global numIndividuos # Para enfriamiento simulado se puede bajar el número\n",
    "numIndividuos = int(input('Introduce el número de individuos de cada población: '))\n",
    "caja_de_herramientas.register('población', tools.initRepeat,\n",
    "                              container=list, func=caja_de_herramientas.individuo, n=numIndividuos)"
   ]
  },
  {
   "cell_type": "markdown",
   "metadata": {},
   "source": [
    "A continuacion declaramos una variable globla para el grafo, que tendra los nodos solicitados anteriormente, y será de tipo completo, usando la libreria networkx.\n",
    "\n",
    "También se muestran todos los posibles grafos que se pueden crear y utilizar con esta libreria."
   ]
  },
  {
   "cell_type": "code",
   "execution_count": 8,
   "metadata": {},
   "outputs": [],
   "source": [
    "global grafo\n",
    "grafo = nx.complete_graph(numNodos) # PRUEBA 1: 200 NODOS\n",
    "# grafo = nx.erdos_renyi_graph(numNodos, 0.15) # PRUEBA 2: 80 NODOS, PRUEBA 3-4: 20 NODOS\n",
    "# grafo = nx.petersen_graph() # PRUEBA 5-8: 10 NODOS"
   ]
  },
  {
   "cell_type": "code",
   "execution_count": null,
   "metadata": {},
   "outputs": [],
   "source": [
    "# Métodos para crear grafos\n",
    "petersen = nx.petersen_graph() # 10 nodos\n",
    "tutte = nx.tutte_graph() # 46 nodos\n",
    "maze = nx.sedgewick_maze_graph() # 8 nodos\n",
    "tet = nx.tetrahedral_graph() # 4 nodos\n",
    "K_5 = nx.complete_graph(5)\n",
    "K_3_5 = nx.complete_bipartite_graph(3, 5)\n",
    "barbell = nx.barbell_graph(10, 10)\n",
    "lollipop = nx.lollipop_graph(10, 20)\n",
    "er = nx.erdos_renyi_graph(20, 0.15)\n",
    "ba = nx.barabasi_albert_graph(10, 2)"
   ]
  },
  {
   "cell_type": "markdown",
   "metadata": {},
   "source": [
    "A continuacion se define el fenotipo que se utiliza en la resolucion del problema, donde recibiremos una lista de colores ( Representa el individuo ), posteriormente, dividiremos en funcion del color asociado al nodo ( El elemento 0 de la lista, correspondiente al primer nodo, tendra un color asociado, y del mismo modo los demas ), de modo que obtendremos en el resultado los nodos dentro de la lista asociada al color que peternecen."
   ]
  },
  {
   "cell_type": "code",
   "execution_count": 152,
   "metadata": {},
   "outputs": [],
   "source": [
    "G=globals()\n",
    "def fenotipo(individuo):\n",
    "    res = []\n",
    "    for i in range(1,numColores+1):\n",
    "        G[\"P%d\"%i] = []\n",
    "        for j in range(numNodos): \n",
    "            if individuo[j] == i:\n",
    "                G[\"P%d\"%i].append(j)\n",
    "    for i in range(1,numColores+1):\n",
    "        res += G[\"P%d\"%i],\n",
    "    return (res)"
   ]
  },
  {
   "cell_type": "markdown",
   "metadata": {},
   "source": [
    "Posteriormente declaramos la funcion fitness, que recibira el individuo y llamará al fenotipo para obtener las listas de colores con los nodos.\n",
    "\n",
    "Posteriormente analizará si, dado un nodo y su color, tiene algun vértice adyacente con el mismo color, en cuyo caso penalizará al individuo."
   ]
  },
  {
   "cell_type": "code",
   "execution_count": 153,
   "metadata": {},
   "outputs": [],
   "source": [
    "def evaluar_individuo(individuo):\n",
    "    fenotipo(individuo)\n",
    "    penalizacion = 0\n",
    "    for i in range(1,numColores+1):\n",
    "        for j in range(len(G[\"P%d\"%i])):\n",
    "            for k in range(j+1,len(G[\"P%d\"%i])):\n",
    "                if compruebaVertice(G[\"P%d\"%i][j],G[\"P%d\"%i][k]):\n",
    "                    penalizacion += 1000\n",
    "    return (penalizacion,)\n",
    "\n",
    "def compruebaVertice(a, b):\n",
    "    res = False\n",
    "    if b in list(grafo.neighbors(a)):\n",
    "        res = True\n",
    "    return res"
   ]
  },
  {
   "cell_type": "markdown",
   "metadata": {},
   "source": [
    "Una vez definida nuestro fitness y fenotipo, podemos proceder a incluirlos en nuestra caja de herramientas para poder usarla en nuestro algoritmo genético."
   ]
  },
  {
   "cell_type": "code",
   "execution_count": 154,
   "metadata": {},
   "outputs": [],
   "source": [
    "caja_de_herramientas.register('evaluate', evaluar_individuo)"
   ]
  },
  {
   "cell_type": "markdown",
   "metadata": {},
   "source": [
    "A continuacion, se muestra el fragmento de código extraido de la librería DEAP, el cual se encargará de resolver el problema para el algoritmo genético."
   ]
  },
  {
   "cell_type": "code",
   "execution_count": 155,
   "metadata": {},
   "outputs": [],
   "source": [
    "def varAnd(population, toolbox, cxpb, mutpb):\n",
    "    offspring = [toolbox.clone(ind) for ind in population]\n",
    "\n",
    "    # Apply crossover and mutation on the offspring\n",
    "    for i in range(1, len(offspring), 2):\n",
    "        if random.random() < cxpb:\n",
    "            offspring[i - 1], offspring[i] = toolbox.mate(offspring[i - 1],\n",
    "                                                          offspring[i])\n",
    "            del offspring[i - 1].fitness.values, offspring[i].fitness.values\n",
    "\n",
    "    for i in range(len(offspring)):\n",
    "        if random.random() < mutpb:\n",
    "            offspring[i], = toolbox.mutate(offspring[i])\n",
    "            del offspring[i].fitness.values\n",
    "\n",
    "    return offspring\n",
    "\n",
    "def eaSimple(population, toolbox, cxpb, mutpb, ngen, stats=None,\n",
    "             halloffame=None, verbose=__debug__):\n",
    "\n",
    "    logbook = tools.Logbook()\n",
    "    logbook.header = ['gen', 'nevals'] + (stats.fields if stats else [])\n",
    "    \n",
    "    # Evaluate the individuals with an invalid fitness\n",
    "    invalid_ind = [ind for ind in population if not ind.fitness.valid]\n",
    "    fitnesses = toolbox.map(toolbox.evaluate, invalid_ind)\n",
    "    for ind, fit in zip(invalid_ind, fitnesses):\n",
    "        ind.fitness.values = fit\n",
    "\n",
    "    if halloffame is not None:\n",
    "        halloffame.update(population)\n",
    "\n",
    "    record = stats.compile(population) if stats else {}\n",
    "    logbook.record(gen=0, nevals=len(invalid_ind), **record)\n",
    "    if verbose:\n",
    "        print (logbook.stream)\n",
    "\n",
    "    # Begin the generational process\n",
    "    for gen in range(1, ngen + 1):\n",
    "        # Select the next generation individuals\n",
    "        offspring = toolbox.select(population, len(population))\n",
    "\n",
    "        # Vary the pool of individuals\n",
    "        offspring = varAnd(offspring, toolbox, cxpb, mutpb)\n",
    "\n",
    "        # Evaluate the individuals with an invalid fitness\n",
    "        invalid_ind = [ind for ind in offspring if not ind.fitness.valid]\n",
    "        fitnesses = toolbox.map(toolbox.evaluate, invalid_ind)\n",
    "        for ind, fit in zip(invalid_ind, fitnesses):\n",
    "            ind.fitness.values = fit\n",
    "\n",
    "        # Update the hall of fame with the generated individuals\n",
    "        if halloffame is not None:\n",
    "            halloffame.update(offspring)\n",
    "\n",
    "        # Replace the current population by the offspring\n",
    "        population[:] = offspring\n",
    "\n",
    "        # Append the current generation statistics to the logbook\n",
    "        record = stats.compile(population) if stats else {}\n",
    "        logbook.record(gen=gen, nevals=len(invalid_ind), **record)\n",
    "        if verbose:\n",
    "            print (logbook.stream)\n",
    "\n",
    "    return population, logbook"
   ]
  },
  {
   "cell_type": "markdown",
   "metadata": {},
   "source": [
    "Seguidamente, definimos dentro de la caja de herramientas los siguientes parametros necesarios para realizar el algoritmo genético, dado que los algoritmos genéticos implementados en el paquete DEAP esperan que el operador de cruce esté registrado con el nombre `mate` y el operador de mutación con el nombre `mutate`.\n",
    "\n",
    "Finalmente, como método de selección de individuos registramos en la caja de herramientas el método de selección por torneo, en el que para seleccionar un individuo se elige al azar una cierta cantidad de individuos y de entre ellos se selecciona el más apto. Este método está implementado en la función `selTournament` del módulo `tools`.\n",
    "\n",
    "Como ejemplo elegimos una poblacion inicial aleatoria sobre la que trabajaremos."
   ]
  },
  {
   "cell_type": "code",
   "execution_count": 138,
   "metadata": {},
   "outputs": [
    {
     "name": "stdout",
     "output_type": "stream",
     "text": [
      "[[2, 3, 1, 2, 2, 1, 2, 3, 2, 1], [2, 1, 2, 2, 3, 3, 1, 3, 3, 1], [2, 3, 3, 1, 3, 3, 2, 3, 3, 1], [1, 1, 3, 1, 1, 2, 2, 1, 2, 2], [1, 3, 3, 3, 2, 1, 1, 3, 1, 3], [1, 2, 1, 3, 2, 1, 3, 3, 1, 3], [2, 1, 3, 3, 3, 2, 1, 1, 1, 2], [1, 3, 3, 3, 1, 2, 3, 2, 3, 1], [1, 1, 2, 1, 1, 1, 2, 3, 2, 1], [2, 2, 1, 1, 1, 3, 2, 1, 2, 1], [1, 3, 2, 1, 3, 3, 1, 2, 3, 1], [1, 3, 2, 2, 3, 2, 3, 1, 2, 3], [3, 1, 3, 1, 1, 2, 1, 2, 1, 1], [1, 1, 2, 1, 3, 1, 3, 3, 1, 1], [1, 3, 2, 1, 3, 1, 2, 3, 2, 1], [2, 2, 1, 1, 1, 1, 2, 2, 1, 2], [1, 1, 3, 3, 3, 1, 2, 3, 3, 2], [2, 1, 1, 3, 2, 3, 1, 3, 3, 3], [1, 3, 1, 3, 1, 2, 3, 2, 1, 3], [3, 3, 3, 1, 2, 2, 1, 2, 3, 3]]\n"
     ]
    }
   ],
   "source": [
    "# DEFINICIÓN DE LA MUTACIÓN Y LA POBLACIÓN INCIAL\n",
    "caja_de_herramientas.register('mate', tools.cxOnePoint)\n",
    "caja_de_herramientas.register('mutate', tools.mutShuffleIndexes, indpb=0.1)\n",
    "# indpb es la probabilidad de mutación de cada gen del cromosoma\n",
    "\n",
    "caja_de_herramientas.register('select', tools.selTournament, tournsize=1)\n",
    "\n",
    "random.seed(12345)\n",
    "población_inicial = caja_de_herramientas.población()\n",
    "\n",
    "print (población_inicial)"
   ]
  },
  {
   "cell_type": "markdown",
   "metadata": {},
   "source": [
    "Para encontrar las mejores soluciones, utilizaremos el metodo HallOfFame, que muestra las mejores soluciones obtenidas por el algoritmo, en este caso, aunque puedan existir diferentes soluciones válidas, nos quedaremos solo con 1 mejor.\n",
    "\n",
    "Finalmente, ejecutamos el algoritmo utilizando todos los valores necesarios y establecidos ( Que podran ser introducidos a mano en la interfaz gráfica ), y obtenemos la solucion imprimiendo el grafo mediante la libreria Networkx"
   ]
  },
  {
   "cell_type": "code",
   "execution_count": 193,
   "metadata": {},
   "outputs": [
    {
     "name": "stdout",
     "output_type": "stream",
     "text": [
      "gen\tnevals\n",
      "0  \t0     \n",
      "1  \t15    \n",
      "2  \t11    \n",
      "3  \t12    \n",
      "4  \t13    \n",
      "5  \t14    \n",
      "6  \t9     \n",
      "7  \t9     \n",
      "8  \t12    \n",
      "9  \t5     \n",
      "10 \t14    \n",
      "11 \t8     \n",
      "12 \t7     \n",
      "13 \t14    \n",
      "14 \t13    \n",
      "15 \t9     \n",
      "16 \t13    \n",
      "17 \t11    \n",
      "18 \t10    \n",
      "19 \t13    \n",
      "20 \t12    \n",
      "21 \t12    \n",
      "22 \t15    \n",
      "23 \t8     \n",
      "24 \t11    \n",
      "25 \t10    \n",
      "26 \t10    \n",
      "27 \t10    \n",
      "28 \t14    \n",
      "29 \t15    \n",
      "30 \t15    \n",
      "31 \t15    \n",
      "32 \t12    \n",
      "33 \t12    \n",
      "34 \t13    \n",
      "35 \t9     \n",
      "36 \t12    \n",
      "37 \t16    \n",
      "38 \t14    \n",
      "39 \t15    \n",
      "40 \t12    \n",
      "41 \t17    \n",
      "42 \t12    \n",
      "43 \t14    \n",
      "44 \t11    \n",
      "45 \t14    \n",
      "46 \t12    \n",
      "47 \t7     \n",
      "48 \t10    \n",
      "49 \t10    \n",
      "50 \t9     \n",
      "La mejor solucion encontrada ha sido:\n",
      "Individuo: [3, 3, 3, 3, 3, 3, 3, 3, 3, 3]; Fitness: 15000.0\n"
     ]
    },
    {
     "data": {
      "image/png": "[encoded data removed]",
      "text/plain": [
       "<Figure size 432x288 with 1 Axes>"
      ]
     },
     "metadata": {},
     "output_type": "display_data"
    }
   ],
   "source": [
    "salón_fama = tools.HallOfFame(1)\n",
    "\n",
    "población, registro = eaSimple(población_inicial,\n",
    "                                          caja_de_herramientas,\n",
    "                                          cxpb=0.5, # Probabilidad de que dos individuos contiguos se crucen\n",
    "                                          mutpb=0.3, # Probabilidad de que un individuo mute\n",
    "                                          ngen=50, # Número de generaciones\n",
    "                                          halloffame=salón_fama)\n",
    "\n",
    "print('La mejor solucion encontrada ha sido:')\n",
    "solucion = salón_fama[0]\n",
    "print('Individuo: {1}; Fitness: {0}'.format(\n",
    "        solucion.fitness.values[0], solucion))\n",
    "nx.draw_shell(grafo, with_labels=True, font_weight='bold', node_color=solucion, node_size=400, cmap=plt.cm.gist_ncar)\n",
    "plt.savefig(\"path.png\") # ESTE ULTIMO CODIGO SIRVE PARA GUARDAR LA FIGURA DEL GRAFO Y MOSTRARLO EN LA INTERFAZ."
   ]
  },
  {
   "cell_type": "markdown",
   "metadata": {},
   "source": [
    "# ENFRIAMIENTO SIMULADO #"
   ]
  },
  {
   "cell_type": "markdown",
   "metadata": {},
   "source": [
    "Para realizar el enfriamiento simulado, se utilizará la libreria simanneal, que proporciona los métodos apropiados para el correcto funcionamiento del problema."
   ]
  },
  {
   "cell_type": "code",
   "execution_count": 89,
   "metadata": {},
   "outputs": [],
   "source": [
    "from simanneal import Annealer"
   ]
  },
  {
   "cell_type": "code",
   "execution_count": 161,
   "metadata": {},
   "outputs": [],
   "source": [
    "class GraphColorProblem(Annealer):\n",
    "\n",
    "    def __init__(self, state):\n",
    "        super(GraphColorProblem, self).__init__(state)\n",
    "\n",
    "    def move(self):\n",
    "        a = random.randint(0, len(self.state) - 1)\n",
    "        self.state[a] = random.randint(1,3) \n",
    "\n",
    "    def energy(self):\n",
    "        fenotipo(self.state)\n",
    "        penalizacion = 0\n",
    "        for i in range(1,numColores+1):\n",
    "            for j in range(len(G[\"P%d\"%i])):\n",
    "                for k in range(j+1,len(G[\"P%d\"%i])):\n",
    "                    if compruebaVertice(G[\"P%d\"%i][j],G[\"P%d\"%i][k]):\n",
    "                        penalizacion += 1000\n",
    "        return penalizacion"
   ]
  },
  {
   "cell_type": "markdown",
   "metadata": {},
   "source": [
    "A continuacion, modificamos las funciones de DEAP utilizadas anteriormente en el algoritmo genético, para poder incluir el enfriamiento simulado, de modo que debemos incluir la llamada al método anterior, junto con los pasos que queremos realizar.\n",
    "\n",
    "Posteriormente, el método creado ira aplicando el enfriamiento simulado a cada individuo de la población, y lo guardará de nuevo en esta."
   ]
  },
  {
   "cell_type": "code",
   "execution_count": 163,
   "metadata": {},
   "outputs": [],
   "source": [
    "def varAndEnfriamiento(population, toolbox, cxpb):\n",
    "    offspring = [toolbox.clone(ind) for ind in population]\n",
    "\n",
    "    # Apply crossover on the offspring\n",
    "    for i in range(1, len(offspring), 2):\n",
    "        if random.random() < cxpb:\n",
    "            offspring[i - 1], offspring[i] = toolbox.mate(offspring[i - 1],\n",
    "                                                          offspring[i])\n",
    "            del offspring[i - 1].fitness.values, offspring[i].fitness.values\n",
    "            \n",
    "    # ENFRIAMIENTO SIMULADO #\n",
    "    \n",
    "    for i in range(len(offspring)):\n",
    "        init_state = offspring[i]\n",
    "        gcp = GraphColorProblem(init_state)\n",
    "        gcp.steps = 1\n",
    "        gcp.updates = 0\n",
    "        gcp.copy_strategy = \"slice\"\n",
    "        state, e = gcp.anneal()\n",
    "        for j in range(len(offspring[i])):\n",
    "            offspring[i][j] = state[j]\n",
    "        del offspring[i].fitness.values\n",
    "\n",
    "    return offspring\n",
    "\n",
    "def eaSimpleEnfriamiento(population, toolbox, cxpb, ngen, stats=None,\n",
    "             halloffame=None, verbose=__debug__):\n",
    "\n",
    "    logbook = tools.Logbook()\n",
    "    logbook.header = ['gen', 'nevals'] + (stats.fields if stats else [])\n",
    "    \n",
    "    # Evaluate the individuals with an invalid fitness\n",
    "    invalid_ind = [ind for ind in population if not ind.fitness.valid]\n",
    "    fitnesses = toolbox.map(toolbox.evaluate, invalid_ind)\n",
    "    for ind, fit in zip(invalid_ind, fitnesses):\n",
    "        ind.fitness.values = fit\n",
    "\n",
    "    if halloffame is not None:\n",
    "        halloffame.update(population)\n",
    "\n",
    "    record = stats.compile(population) if stats else {}\n",
    "    logbook.record(gen=0, nevals=len(invalid_ind), **record)\n",
    "    if verbose:\n",
    "        print (logbook.stream)\n",
    "\n",
    "    # Begin the generational process\n",
    "    for gen in range(1, ngen + 1):\n",
    "        # Select the next generation individuals\n",
    "        offspring = toolbox.select(population, len(population))\n",
    "\n",
    "        # Vary the pool of individuals\n",
    "        offspring = varAndEnfriamiento(offspring, toolbox, cxpb)\n",
    "\n",
    "        # Evaluate the individuals with an invalid fitness\n",
    "        invalid_ind = [ind for ind in offspring if not ind.fitness.valid]\n",
    "        fitnesses = toolbox.map(toolbox.evaluate, invalid_ind)\n",
    "        for ind, fit in zip(invalid_ind, fitnesses):\n",
    "            ind.fitness.values = fit\n",
    "\n",
    "        # Update the hall of fame with the generated individuals\n",
    "        if halloffame is not None:\n",
    "            halloffame.update(offspring)\n",
    "\n",
    "        # Replace the current population by the offspring\n",
    "        population[:] = offspring\n",
    "\n",
    "        # Append the current generation statistics to the logbook\n",
    "        record = stats.compile(population) if stats else {}\n",
    "        logbook.record(gen=gen, nevals=len(invalid_ind), **record)\n",
    "        if verbose:\n",
    "            print (logbook.stream)\n",
    "\n",
    "    return population, logbook"
   ]
  },
  {
   "cell_type": "markdown",
   "metadata": {},
   "source": [
    "Volvemos a declarar los elementos necesarios, para ahora, poder realiazr el mismo problema mediante enfriamiento simulado."
   ]
  },
  {
   "cell_type": "code",
   "execution_count": 113,
   "metadata": {},
   "outputs": [
    {
     "name": "stdout",
     "output_type": "stream",
     "text": [
      "[[2, 3, 1, 2, 2, 1, 2, 3, 2, 1, 2, 1, 2, 2, 3, 3, 1, 3, 3, 1], [2, 3, 3, 1, 3, 3, 2, 3, 3, 1, 1, 1, 3, 1, 1, 2, 2, 1, 2, 2], [1, 3, 3, 3, 2, 1, 1, 3, 1, 3, 1, 2, 1, 3, 2, 1, 3, 3, 1, 3], [2, 1, 3, 3, 3, 2, 1, 1, 1, 2, 1, 3, 3, 3, 1, 2, 3, 2, 3, 1], [1, 1, 2, 1, 1, 1, 2, 3, 2, 1, 2, 2, 1, 1, 1, 3, 2, 1, 2, 1], [1, 3, 2, 1, 3, 3, 1, 2, 3, 1, 1, 3, 2, 2, 3, 2, 3, 1, 2, 3], [3, 1, 3, 1, 1, 2, 1, 2, 1, 1, 1, 1, 2, 1, 3, 1, 3, 3, 1, 1], [1, 3, 2, 1, 3, 1, 2, 3, 2, 1, 2, 2, 1, 1, 1, 1, 2, 2, 1, 2], [1, 1, 3, 3, 3, 1, 2, 3, 3, 2, 2, 1, 1, 3, 2, 3, 1, 3, 3, 3], [1, 3, 1, 3, 1, 2, 3, 2, 1, 3, 3, 3, 3, 1, 2, 2, 1, 2, 3, 3], [3, 1, 3, 1, 1, 2, 3, 3, 1, 2, 3, 2, 3, 2, 2, 2, 2, 3, 2, 2], [3, 2, 2, 1, 2, 2, 1, 1, 2, 1, 1, 3, 3, 1, 1, 1, 3, 1, 2, 2], [1, 2, 2, 1, 2, 3, 2, 2, 1, 3, 2, 2, 1, 2, 1, 1, 1, 1, 2, 1], [2, 2, 1, 1, 1, 1, 3, 1, 2, 2, 2, 1, 1, 1, 2, 1, 3, 1, 2, 3], [3, 2, 1, 3, 2, 1, 1, 1, 3, 1, 3, 3, 3, 2, 3, 1, 3, 1, 3, 3], [2, 3, 1, 2, 2, 2, 1, 2, 3, 1, 2, 2, 3, 3, 3, 3, 1, 2, 2, 2], [1, 2, 2, 2, 2, 1, 2, 3, 3, 1, 3, 1, 2, 1, 1, 3, 1, 1, 1, 2], [1, 3, 1, 2, 2, 2, 1, 2, 1, 1, 2, 3, 1, 2, 3, 3, 1, 3, 2, 1], [1, 3, 3, 3, 3, 1, 1, 3, 3, 2, 1, 3, 1, 1, 1, 3, 1, 1, 2, 3], [1, 1, 2, 1, 2, 2, 3, 3, 2, 3, 2, 3, 1, 3, 2, 3, 1, 3, 1, 3], [3, 3, 2, 1, 2, 2, 3, 1, 2, 2, 1, 2, 1, 2, 2, 2, 3, 1, 1, 1], [3, 3, 2, 2, 3, 3, 1, 3, 1, 3, 3, 3, 2, 1, 2, 2, 3, 3, 1, 3], [2, 1, 3, 2, 2, 1, 3, 2, 1, 1, 1, 2, 3, 1, 1, 1, 3, 3, 1, 2], [1, 1, 3, 3, 2, 3, 2, 1, 1, 2, 2, 3, 3, 2, 3, 3, 3, 3, 2, 3], [3, 2, 3, 2, 3, 1, 3, 2, 3, 2, 3, 1, 2, 1, 3, 1, 3, 1, 2, 3], [2, 2, 3, 2, 2, 1, 2, 3, 3, 1, 3, 2, 1, 3, 1, 2, 1, 3, 1, 2], [1, 3, 2, 1, 2, 1, 2, 2, 3, 3, 2, 2, 1, 2, 1, 3, 3, 2, 1, 2], [3, 2, 2, 1, 3, 2, 3, 3, 2, 3, 1, 2, 2, 3, 1, 2, 2, 1, 2, 2], [1, 3, 3, 2, 2, 2, 3, 1, 2, 2, 1, 1, 1, 3, 1, 3, 3, 1, 2, 1], [2, 1, 1, 3, 1, 1, 1, 2, 2, 3, 1, 3, 3, 3, 2, 3, 3, 2, 2, 2], [2, 1, 3, 1, 3, 2, 2, 3, 2, 1, 2, 1, 1, 3, 2, 3, 1, 3, 1, 1], [3, 1, 3, 2, 1, 2, 2, 1, 1, 3, 1, 3, 1, 3, 1, 1, 1, 1, 1, 2], [2, 3, 2, 1, 1, 1, 3, 3, 3, 1, 2, 1, 2, 3, 1, 3, 1, 1, 1, 2], [1, 2, 2, 1, 2, 1, 3, 2, 2, 1, 2, 1, 2, 2, 3, 1, 3, 3, 1, 2], [1, 2, 1, 2, 1, 3, 1, 3, 3, 3, 2, 3, 2, 2, 3, 1, 3, 3, 2, 3], [2, 3, 1, 2, 1, 1, 3, 3, 1, 2, 3, 1, 1, 3, 3, 1, 1, 2, 1, 3], [1, 2, 3, 1, 2, 2, 2, 1, 3, 3, 1, 3, 1, 3, 1, 2, 1, 2, 1, 1], [3, 2, 3, 2, 3, 3, 3, 2, 1, 2, 2, 2, 1, 2, 3, 3, 3, 2, 2, 2], [2, 1, 2, 2, 1, 3, 1, 2, 1, 3, 1, 1, 1, 3, 3, 1, 1, 1, 1, 3], [1, 1, 1, 1, 1, 2, 1, 3, 2, 1, 2, 3, 3, 1, 2, 3, 1, 1, 1, 3], [2, 1, 2, 2, 1, 1, 2, 1, 2, 2, 2, 3, 3, 1, 3, 3, 2, 1, 2, 1], [2, 3, 2, 3, 1, 2, 1, 2, 2, 1, 3, 2, 2, 1, 3, 2, 1, 3, 1, 1], [1, 2, 3, 2, 3, 2, 3, 1, 1, 3, 2, 2, 1, 1, 1, 1, 2, 1, 1, 1], [3, 2, 3, 1, 1, 3, 2, 2, 3, 2, 3, 2, 2, 2, 2, 1, 1, 3, 3, 3], [1, 2, 2, 1, 2, 1, 2, 3, 3, 3, 1, 3, 2, 2, 1, 1, 1, 1, 1, 2], [3, 2, 1, 2, 2, 2, 2, 2, 3, 3, 2, 2, 3, 2, 2, 1, 1, 1, 2, 2], [3, 3, 3, 1, 2, 2, 3, 2, 2, 2, 3, 2, 3, 3, 2, 3, 1, 2, 1, 1], [2, 2, 2, 2, 3, 3, 3, 1, 2, 1, 3, 1, 2, 2, 2, 2, 2, 3, 1, 1], [3, 2, 3, 3, 2, 1, 3, 1, 3, 1, 1, 2, 3, 3, 1, 1, 1, 2, 3, 2], [3, 3, 1, 1, 3, 2, 2, 2, 2, 1, 1, 2, 1, 1, 1, 3, 1, 2, 3, 1]]\n"
     ]
    }
   ],
   "source": [
    "caja_de_herramientas.register('mate', tools.cxOnePoint)\n",
    "caja_de_herramientas.register('mutate', tools.mutShuffleIndexes, indpb=0.1)\n",
    "\n",
    "caja_de_herramientas.register('select', tools.selTournament, tournsize=1)\n",
    "\n",
    "random.seed(12345)\n",
    "población_inicial = caja_de_herramientas.población()\n",
    "\n",
    "print (población_inicial)"
   ]
  },
  {
   "cell_type": "markdown",
   "metadata": {},
   "source": [
    "Ejecutamos el codigo, y obtenemos la solucion y realización del enfriamiento simulado individuo a individuo.\n",
    "\n",
    "La clase Annealer, como podemos observar, posee por defectos los valores de la temperatura inicial y objetivo."
   ]
  },
  {
   "cell_type": "code",
   "execution_count": 172,
   "metadata": {},
   "outputs": [
    {
     "name": "stdout",
     "output_type": "stream",
     "text": [
      "gen\tnevals\n",
      "0  \t0     \n",
      "1  \t20    \n",
      "2  \t20    \n",
      "3  \t20    \n",
      "4  \t20    \n",
      "5  \t20    \n",
      "6  \t20    \n",
      "7  \t20    \n",
      "8  \t20    \n",
      "9  \t20    \n",
      "10 \t20    \n",
      "11 \t20    \n",
      "12 \t20    \n",
      "13 \t20    \n",
      "14 \t20    \n",
      "15 \t20    \n",
      "16 \t20    \n",
      "17 \t20    \n",
      "18 \t20    \n",
      "19 \t20    \n",
      "20 \t20    \n",
      "21 \t20    \n",
      "22 \t20    \n",
      "23 \t20    \n",
      "24 \t20    \n",
      "25 \t20    \n",
      "26 \t20    \n",
      "27 \t20    \n",
      "28 \t20    \n",
      "29 \t20    \n",
      "30 \t20    \n",
      "31 \t20    \n",
      "32 \t20    \n",
      "33 \t20    \n",
      "34 \t20    \n",
      "35 \t20    \n",
      "36 \t20    \n",
      "37 \t20    \n",
      "38 \t20    \n",
      "39 \t20    \n",
      "40 \t20    \n",
      "41 \t20    \n",
      "42 \t20    \n",
      "43 \t20    \n",
      "44 \t20    \n",
      "45 \t20    \n",
      "46 \t20    \n",
      "47 \t20    \n",
      "48 \t20    \n",
      "49 \t20    \n",
      "50 \t20    \n"
     ]
    }
   ],
   "source": [
    "salón_fama = tools.HallOfFame(1)\n",
    "\n",
    "población, registro = eaSimpleEnfriamiento(población_inicial,\n",
    "                                          caja_de_herramientas,\n",
    "                                          cxpb=0.5, # Probabilidad de que dos individuos contiguos se crucen\n",
    "                                          ngen=50, # Número de generaciones\n",
    "                                          halloffame=salón_fama)"
   ]
  },
  {
   "cell_type": "markdown",
   "metadata": {},
   "source": [
    "Imprimimos de la misma forma que arriba, la solución del problema."
   ]
  },
  {
   "cell_type": "code",
   "execution_count": 173,
   "metadata": {},
   "outputs": [
    {
     "name": "stdout",
     "output_type": "stream",
     "text": [
      "La mejor solucion encontrada ha sido:\n",
      "Individuo: [2, 1, 2, 3, 1, 3, 3, 1, 2, 2]; Fitness: 0.0\n"
     ]
    },
    {
     "data": {
      "image/png": "[encoded data removed]",
      "text/plain": [
       "<Figure size 432x288 with 1 Axes>"
      ]
     },
     "metadata": {},
     "output_type": "display_data"
    }
   ],
   "source": [
    "print('La mejor solucion encontrada ha sido:')\n",
    "for individuo in salón_fama:\n",
    "    solucion = individuo\n",
    "    print('Individuo: {1}; Fitness: {0}'.format(\n",
    "        individuo.fitness.values[0], individuo))\n",
    "nx.draw_shell(grafo, with_labels=True, font_weight='bold', node_color=solucion, node_size=400, cmap=plt.cm.gist_ncar)\n",
    "plt.savefig(\"path.png\")"
   ]
  }
 ],
 "metadata": {
  "kernelspec": {
   "display_name": "Python 3",
   "language": "python",
   "name": "python3"
  },
  "language_info": {
   "codemirror_mode": {
    "name": "ipython",
    "version": 3
   },
   "file_extension": ".py",
   "mimetype": "text/x-python",
   "name": "python",
   "nbconvert_exporter": "python",
   "pygments_lexer": "ipython3",
   "version": "3.6.5"
  }
 },
 "nbformat": 4,
 "nbformat_minor": 2
}
